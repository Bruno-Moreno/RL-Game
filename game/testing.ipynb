{
 "cells": [
  {
   "cell_type": "markdown",
   "metadata": {},
   "source": [
    "# Snake\n",
    "\n",
    "En este notebook vamos a ver las bases de la construcción del juego Snake"
   ]
  },
  {
   "cell_type": "code",
   "execution_count": 4,
   "metadata": {},
   "outputs": [],
   "source": [
    "import numpy as np \n",
    "import random\n",
    "from itertools import product\n"
   ]
  },
  {
   "cell_type": "markdown",
   "metadata": {},
   "source": [
    "## Grilla"
   ]
  },
  {
   "cell_type": "code",
   "execution_count": 40,
   "metadata": {},
   "outputs": [
    {
     "data": {
      "text/plain": [
       "array([[0., 0., 0., 0.],\n",
       "       [0., 0., 0., 0.],\n",
       "       [0., 0., 0., 0.],\n",
       "       [0., 0., 0., 0.]])"
      ]
     },
     "execution_count": 40,
     "metadata": {},
     "output_type": "execute_result"
    }
   ],
   "source": [
    "def create_grid(height , width):\n",
    "\n",
    "    grid = np.zeros((height, width))\n",
    "\n",
    "    return grid\n",
    "\n",
    "height = 4\n",
    "width = 4\n",
    "grid = create_grid(height, width)\n",
    "grid"
   ]
  },
  {
   "cell_type": "code",
   "execution_count": 36,
   "metadata": {},
   "outputs": [
    {
     "data": {
      "text/plain": [
       "[(0, 2), (1, 0), (1, 1), (1, 2), (2, 0), (2, 1), (2, 2)]"
      ]
     },
     "execution_count": 36,
     "metadata": {},
     "output_type": "execute_result"
    }
   ],
   "source": [
    "def check_available_positions(grid, snake_positions):\n",
    "\n",
    "    height = grid.shape[0]\n",
    "    width = grid.shape[1]\n",
    "\n",
    "    positions_x = set(range(height))\n",
    "    positions_y = set(range(width))\n",
    "\n",
    "    positions  = list(product(positions_x, positions_y))\n",
    "\n",
    "    possible_positions = [p for p in positions if p not in snake_positions]\n",
    "\n",
    "    return possible_positions\n",
    "\n",
    "snake_positions = [(0,0), (0,1)]\n",
    "possible_positions = check_available_positions(grid, snake_positions)\n",
    "possible_positions"
   ]
  },
  {
   "cell_type": "code",
   "execution_count": 39,
   "metadata": {},
   "outputs": [
    {
     "data": {
      "text/plain": [
       "(2, 0)"
      ]
     },
     "execution_count": 39,
     "metadata": {},
     "output_type": "execute_result"
    }
   ],
   "source": [
    "def random_animal(possible_positions):\n",
    "\n",
    "    if len(possible_positions) > 0: \n",
    "\n",
    "        random_animal_position = random.choice(possible_positions)\n",
    "        return random_animal_position\n",
    "\n",
    "    else:\n",
    "        return \"Juego terminado - Felicidades!\"\n",
    "    \n",
    "random_animal_position = random_animal(possible_positions)\n",
    "random_animal_position\n",
    "\n"
   ]
  },
  {
   "cell_type": "markdown",
   "metadata": {},
   "source": [
    "## Snake"
   ]
  },
  {
   "cell_type": "code",
   "execution_count": 75,
   "metadata": {},
   "outputs": [],
   "source": [
    "class Snake:\n",
    "  def __init__(self, initial_length):\n",
    "\n",
    "    self.snake_position = [(0,i) for i in range(initial_length)]\n",
    "\n",
    "  def snake_direction(self):\n",
    "\n",
    "    head = self.snake_position[-1]\n",
    "    neck = self.snake_position[-2]\n",
    "\n",
    "    if neck[0] - head[0] > 0:\n",
    "      direction = \"up\"\n",
    "\n",
    "    elif neck[0] - head[0] < 0:\n",
    "      direction = \"down\"\n",
    "\n",
    "    elif neck[1] - head[1] > 0:\n",
    "      direction = \"left\"\n",
    "\n",
    "    elif neck[1] - head[1] < 0:\n",
    "      direction = \"right\"\n",
    "\n",
    "    else:\n",
    "      ValueError(\"WTF\")\n",
    "\n",
    "    return direction\n",
    "\n",
    "  def move(self, direction):\n",
    "\n",
    "    # Validamos que el movimiento no sea en contra de la dirección de la cabeza (giro 180)\n",
    "    actual_direction = self.snake_direction()\n",
    "    if (direction == \"up\" and actual_direction == \"down\") or (direction == \"down\" and actual_direction == \"up\") or (direction == \"right\" and actual_direction == \"left\") or (direction == \"left\" and actual_direction == \"right\"):\n",
    "\n",
    "      direction = actual_direction\n",
    "\n",
    "\n",
    "    if direction == \"up\":\n",
    "      new_head_position = (self.snake_position[-1][0] - 1, self.snake_position[-1][1])\n",
    "\n",
    "    elif direction == \"right\":\n",
    "      new_head_position = (self.snake_position[-1][0], self.snake_position[-1][1] + 1)\n",
    "\n",
    "    elif direction == \"down\":\n",
    "      new_head_position = (self.snake_position[-1][0] + 1, self.snake_position[-1][1])\n",
    "\n",
    "    elif direction == \"left\":\n",
    "      new_head_position = (self.snake_position[-1][0], self.snake_position[-1][1] - 1)\n",
    "\n",
    "    else:\n",
    "\n",
    "      ValueError(\"Invalid Position\")\n",
    "\n",
    "    self.snake_position.pop(0) # Mover la cola\n",
    "    self.snake_position.append(new_head_position) # Mover la cabeza\n",
    "  \n",
    "\n",
    "  def eat_animal(self, animal_position):\n",
    "\n",
    "    pass\n",
    "\n"
   ]
  },
  {
   "cell_type": "code",
   "execution_count": 78,
   "metadata": {},
   "outputs": [
    {
     "name": "stdout",
     "output_type": "stream",
     "text": [
      "[(0, 0), (0, 1), (0, 2)]\n",
      "[(0, 1), (0, 2), (0, 3)]\n",
      "[(0, 2), (0, 3), (0, 4)]\n"
     ]
    }
   ],
   "source": [
    "snake = Snake(initial_length=3)\n",
    "print(snake.snake_position)\n",
    "snake.move(direction=\"right\")\n",
    "print(snake.snake_position)\n",
    "snake.move(direction=\"left\")\n",
    "print(snake.snake_position)"
   ]
  },
  {
   "cell_type": "code",
   "execution_count": 76,
   "metadata": {},
   "outputs": [
    {
     "name": "stdout",
     "output_type": "stream",
     "text": [
      "[(0, 0), (0, 1), (0, 2)]\n",
      "[(0, 1), (0, 2), (1, 2)]\n",
      "[(0, 2), (1, 2), (1, 1)]\n",
      "[(1, 2), (1, 1), (0, 1)]\n"
     ]
    },
    {
     "data": {
      "text/plain": [
       "'up'"
      ]
     },
     "execution_count": 76,
     "metadata": {},
     "output_type": "execute_result"
    }
   ],
   "source": [
    "snake = Snake(initial_length=3)\n",
    "print(snake.snake_position)\n",
    "snake.move(direction=\"down\")\n",
    "print(snake.snake_position)\n",
    "snake.move(direction=\"left\")\n",
    "print(snake.snake_position)\n",
    "snake.move(direction=\"up\")\n",
    "print(snake.snake_position)\n",
    "snake.snake_direction()\n",
    "\n"
   ]
  },
  {
   "cell_type": "code",
   "execution_count": 50,
   "metadata": {},
   "outputs": [
    {
     "data": {
      "text/plain": [
       "[(0, 2), (0, 3), (0, 4)]"
      ]
     },
     "execution_count": 50,
     "metadata": {},
     "output_type": "execute_result"
    }
   ],
   "source": [
    "snake.move(direction=\"up\")\n",
    "snake.snake_position"
   ]
  },
  {
   "cell_type": "code",
   "execution_count": 51,
   "metadata": {},
   "outputs": [
    {
     "data": {
      "text/plain": [
       "[(0, 2), (0, 3), (0, 4)]"
      ]
     },
     "execution_count": 51,
     "metadata": {},
     "output_type": "execute_result"
    }
   ],
   "source": [
    "snake.snake_position"
   ]
  },
  {
   "cell_type": "code",
   "execution_count": null,
   "metadata": {},
   "outputs": [],
   "source": []
  }
 ],
 "metadata": {
  "kernelspec": {
   "display_name": "base",
   "language": "python",
   "name": "python3"
  },
  "language_info": {
   "codemirror_mode": {
    "name": "ipython",
    "version": 3
   },
   "file_extension": ".py",
   "mimetype": "text/x-python",
   "name": "python",
   "nbconvert_exporter": "python",
   "pygments_lexer": "ipython3",
   "version": "3.9.13"
  },
  "orig_nbformat": 4
 },
 "nbformat": 4,
 "nbformat_minor": 2
}
